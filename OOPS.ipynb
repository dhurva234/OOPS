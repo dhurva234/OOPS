{
  "nbformat": 4,
  "nbformat_minor": 0,
  "metadata": {
    "colab": {
      "provenance": []
    },
    "kernelspec": {
      "name": "python3",
      "display_name": "Python 3"
    },
    "language_info": {
      "name": "python"
    }
  },
  "cells": [
    {
      "cell_type": "markdown",
      "source": [
        "1. What is Object-Oriented Programming (OOP)?\n",
        "   - Object-Oriented Programming (OOP) is a\n",
        "     programming paradigm that uses \"objects\" to design applications and computer programs. These objects are instances of \"classes,\" which serve as blueprints for creating objects.\n",
        "\n",
        "The core concepts of OOP include:\n",
        "\n",
        "       (1). Classes: A blueprint or template for creating     objects. It defines the attributes (data) and  methods (functions) that objects of that class will have.\n",
        "\n",
        "       (2).Objects: An instance of a class. It's a concrete entity based on the class definition.\n",
        "\n",
        "       (3).Encapsulation: Bundling data (attributes) and the methods that operate on that data within a single unit (the object). This hides the internal implementation details from the outside world.\n",
        "\n",
        "       (4).Abstraction: Hiding complex implementation details and showing only the essential features of an object. This simplifies the view of an object.\n",
        "\n",
        "      (5).Inheritance: Allows a new class (subclass or derived class) to inherit properties and behaviors from an existing class (superclass or base class). This promotes code reusability.\n",
        "\n",
        "\n",
        "2. What is a class in OOP?\n",
        "   - In Object-Oriented Programming (OOP), a class is\n",
        "      a blueprint or template for creating objects. It defines the attributes (data) and methods (functions) that objects of that class will have. Think of a class like a design or a plan, and an object as a specific instance built from that plan.\n",
        "\n",
        "      Here's a breakdown of the key aspects of a class:\n",
        "\n",
        "  (1) Blueprint/Template: A class defines the structure\n",
        "      and behavior that objects of that type will possess. It's not a tangible object itself, but rather the definition of what an object should be.\n",
        "  (2) Attributes: These are the data or properties that an object of a class\n",
        "      will hold. For example, in a Car class, attributes might include color, make, and model.\n",
        "\n",
        "     (3) Methods: These are the functions or actions\n",
        "    that an object of a class can perform. In a Car class, methods might include start_engine(), accelerate(), and brake().\n",
        "\n",
        "     (4) Constructor: As mentioned in the search\n",
        "        result [1], a constructor method (often __init__ in Python) is used when creating an instance of a class. It's responsible for initializing the object's attributes.\n",
        "\n",
        "     (5) Instance: An instance is a specific object\n",
        "        created from a particular class, as noted in search result [1]. You can create multiple instances from the same class, each with its own unique set of attribute values.\n",
        "\n",
        "3. What is an object in OOP?\n",
        "   -  Object-Oriented Programming (OOP), an object is an instance of a class. While a class is the blueprint or template that defines the structure and behavior, an object is a concrete entity created from that blueprint.\n",
        "\n",
        "- Think of it this way:\n",
        "\n",
        "(1) Class: The design for a house. It specifies the number of rooms, where the windows go, and the overall layout.\n",
        "\n",
        "(2) Object: An actual house built according to that design. Each house built from the same design can have different colors, furniture, and occupants, but they all follow the basic structure defined by the blueprint.\n",
        "\n",
        "4. What is the difference between abstraction and encapsulation ?\n",
        "   -  Abstraction and encapsulation are two important\n",
        "     concepts in Object-Oriented Programming (OOP), and while related, they serve different purposes.\n",
        "\n",
        "     Here's the difference:\n",
        "  - Encapsulation:\n",
        "\n",
        "           (1) Focus: Bundling data (attributes) and the methods that operate on that data within a single unit (the object).\n",
        "\n",
        "           (2) Goal: To hide the internal implementation details of an object from the outside world and protect the data from unauthorized access or modification.\n",
        "\n",
        "           (3) Mechanism: It's achieved by making the internal data of an object private and providing public methods to access or modify that data. This controls how the data is accessed and ensures data integrity.\n",
        "\n",
        "           (4) Think of it like: Putting all the parts of a complex machine inside a protective casing. You can interact with the machine through defined interfaces (buttons, levers), but you don't need to know the intricate details of how the internal components work together.\n",
        "\n",
        "   - Abstraction:\n",
        "\n",
        "          (1) Focus: Hiding complex implementation details and showing only the essential features of an object.\n",
        "\n",
        "          (2) Goal: To simplify the view of an object and make it easier to understand and use. It focuses on what an object does, rather than how it does it.\n",
        "\n",
        "          (3) Mechanism: It's achieved by defining classes and interfaces that represent the essential characteristics and behaviors of objects, while hiding the underlying complexity.\n",
        "\n",
        "          (4) Think of it like: A remote control for a TV. You use the buttons on the remote to perform actions like changing channels or adjusting the volume. You don't need to know the complex electronic circuitry inside the TV to use it. The remote provides an abstract interface to the TV's functionality.  \n",
        "\n",
        "\n",
        "5. What are dunder methods in Python?\n",
        "   - In Python,\"dunder method\" are special methods that have double underscores at the beginning and end of their names,like __init__ or __str__ .the term \"dunder\" is a shorthand for\"double underscore\".\n",
        "\n",
        "-  These methods are also known as:\n",
        "\n",
        "          - Magic methods: Because they allow you to implement syntax and features that are typically built-in to the language.\n",
        "\n",
        "          - Special methods: As designated by the Python documentation.\n",
        "\n",
        "  - Dunder methods are not meant to be called directly by you, the programmer, in most cases. Instead, they are invoked by Python's built-in functions or operators. For example:\n",
        "\n",
        "         - The __init__ method is automatically called when you create a new object of a class.\n",
        "\n",
        "         - The __str__ method is called when you use the str() function or the print() function on an object.\n",
        "\n",
        "         - The __add__ method is called when you use the + operator to add two objects.\n",
        "\n",
        "6. Explain the concept of inheritance in OOP?\n",
        "   -  nheritance is a fundamental concept in    \n",
        "      Object-Oriented Programming (OOP) that allows a new class (called the subclass, derived class, or child class) to inherit properties and behaviors (attributes and methods) from an existing class (called the superclass, base class, or parent class).\n",
        "\n",
        "     -  Here's a breakdown of the concept:\n",
        "\n",
        "              - Reusability: The primary benefit of inheritance is code reusability. When a subclass inherits from a superclass, it automatically gets access to the superclass's attributes and methods. This means you don't have to write the same code multiple times in different classes.\n",
        "\n",
        "              - Establishing Relationships: Inheritance creates a hierarchical relationship between classes, often representing an \"is-a\" relationship. For example, a Dog \"is a\" type of Animal. This relationship helps to model real-world scenarios and organize code in a logical way.\n",
        "\n",
        "             - Extending Functionality: Subclasses can extend or modify the behavior inherited from the superclass. They can:\n",
        "                     - Add new attributes and methods.\n",
        "                     - Override existing methods with\n",
        "                       their own implementations (polymorphism).\n",
        "\n",
        "             - Specialization: Inheritance allows you\n",
        "               to create more specialized classes based on a more general class. The superclass represents the general concept, and the subclass represents a specific variation of that concept.\n",
        "\n",
        "             - Maintaining Code: Inheritance can make\n",
        "               code easier to maintain. If you need to change a common behavior or attribute, you can make the change in the superclass, and all the subclasses will automatically inherit the updated behavior.\n",
        "\n",
        "7. What is polymorphism in OOP ?\n",
        "   -  Polymorphism in Object-Oriented Programming\n",
        "      (OOP) means \"many forms.\" It's the ability of objects of different classes to respond to the same method call in a way that is specific to their class. This means that a single method name can be used to perform different actions depending on the type of object it is called on.\n",
        "\n",
        "  - Here's a breakdown of the concept:\n",
        "\n",
        "        - \"Many Forms\": The core idea is that something can take on different forms or have different behaviors. In OOP, this applies to methods.\n",
        "\n",
        "        - Same Method Name, Different Behavior: With polymorphism, you can have methods with the same name in different classes that perform different actions. When you call that method on an object, the specific implementation that is executed depends on the object's class.\n",
        "\n",
        "        - Flexibility and Extensibility: Polymorphism makes your code more flexible and extensible. You can work with objects of different types through a common interface (the method name), without needing to know the exact type of each object at compile time. This makes it easier to add new classes and behaviors to your system without having to modify existing code extensively.\n",
        "\n",
        "    - Method Overriding: One way polymorphism is\n",
        "        achieved is through method overriding. This is when a subclass provides its own implementation of a method that is already defined in its superclass. When the method is called on an object of the subclass, the subclass's implementation is executed instead of the superclass's.\n",
        "\n",
        "    - Method Overloading (in some languages): Although Python doesn't have true method overloading in the same way as some other languages (like Java or C++), the concept is related. Method overloading is when a class has multiple methods with the same name but different parameters. Python achieves similar results through default arguments or variable-length argument lists.\n",
        "\n",
        "8. How is encapsulation achieved in Python ?\n",
        "   - In Python, encapsulation, the bundling of data\n",
        "     and methods within a single unit (an object) and controlling access to that data, is primarily achieved through naming conventions and property decorators, rather than strict access modifiers like public, private, or protected found in some other languages.\n",
        "\n",
        "    - Here's how encapsulation is typically implemented in Python:\n",
        "\n",
        "           (1) Bundling Data and Methods within a Class: This is the fundamental aspect of encapsulation in Python. You define a class that contains both the data (attributes) and the methods that operate on that data.\n",
        "\n",
        "           (2) Naming Conventions for \"Private\" Attributes: Python doesn't have strict private access. However, it uses naming conventions to indicate that an attribute or method is intended for internal use within the class and should not be accessed directly from outside.\n",
        "\n",
        "           (3) Property Decorators (@property): Property decorators provide a way to define getter, setter, and deleter methods for attributes, allowing you to control how attributes are accessed and modified. This is a more explicit and Pythonic way to achieve controlled access, which is a key aspect of encapsulation.\n",
        "\n",
        "9. What is a constructor in Python ?\n",
        "   - A constructor is a special method used when creating an instance of a class. Its primary role is to initialize the attributes (data) of the newly created object.\n",
        "\n",
        "   The constructor method in Python is always named __init__. It's a \"dunder method\" (double underscore method), which means it's a special method that Python calls automatically at certain times.\n",
        "\n",
        "     - Here's a breakdown of the constructor (__init__) in Python:\n",
        "\n",
        "           - Automatic Invocation: When you create an object (instance) of a class, Python automatically calls the __init__ method of that class. You don't call it directly.\n",
        "\n",
        "           - Initialization of Attributes: The main purpose of __init__ is to set the initial state of the object by assigning values to its attributes.\n",
        "\n",
        "           - self Parameter: The first parameter of the __init__ method (and most instance methods in Python) is conventionally named self. This parameter refers to the instance of the class itself. When Python calls __init__, it automatically passes the newly created object as the self argument. You use self to access and modify the attributes and methods of the current object within the method.\n",
        "\n",
        "           - Optional Parameters: The __init__ method can take additional parameters to receive values that will be used to initialize the object's attributes. These parameters are provided when you create the object.\n",
        "\n",
        "           - No Return Value: The __init__ method does not explicitly return a value. Its purpose is solely to initialize the object. The object itself is implicitly returned after the __init__ method completes.\n",
        "\n",
        "\n",
        "10. What are class and static methods in Python ?\n",
        "    -  In Python, besides regular instance methods, you can define class methods and static methods within a class. These types of methods differ in how they are defined, how they are called, and what they have access to.\n",
        "\n",
        "- Here's a breakdown of class methods and static methods:\n",
        "\n",
        "    1. Instance Methods:\n",
        "    These are the most common type of methods in a class. They operate on an instance of the class.\n",
        "\n",
        "            - Definition: They take self as the first parameter, which refers to the instance of the class.\n",
        "\n",
        "            - Call: They are called on an instance of the class (e.g., obj.instance_method()).\n",
        "\n",
        "            - Access: They have access to the instance's attributes and other instance methods using self.\n",
        "\n",
        "  2. Class Methods:\n",
        "Class methods operate on the class itself, not on a specific instance. They are often used for factory methods or methods that need to access or modify class-level attributes.\n",
        "\n",
        "           - Definition: They are defined using the @classmethod decorator and take cls as the first parameter, which refers to the class itself.\n",
        "\n",
        "           - Call: They can be called on the class (e.g., MyClass.class_method()) or on an instance (e.g., obj.class_method()), but they still operate on the class.\n",
        "\n",
        "           - Access: They have access to class-level attributes and other class methods using cls. They do not have direct access to instance-level attributes.\n",
        "\n",
        "  3. Static Methods:\n",
        "Static methods are utility methods that belong to a class but do not operate on the class or any specific instance. They are similar to regular functions but are defined within a class for organizational purposes.\n",
        "\n",
        "           - Definition: They are defined using the @staticmethod decorator and do not take self or cls as the first parameter.\n",
        "\n",
        "           - Call: They can be called on the class (e.g., MyClass.static_method()) or on an instance (e.g., obj.static_method()), but they behave like regular functions.\n",
        "\n",
        "           - Access: They do not have access to instance-level attributes or class-level attributes. They can only access parameters passed to them.\n",
        "\n",
        "\n",
        "11. What is method overloading in Python ?\n",
        "    -  Method overloading is a concept where a class\n",
        "       has multiple methods with the same name but different parameters (in terms of number, type, or order). When the method is called, the appropriate version is executed based on the arguments provided.\n",
        "\n",
        " - How Python handles similar situations:\n",
        "\n",
        "While Python doesn't have true method overloading, you can achieve similar results using other techniques:\n",
        "\n",
        "        (1) Default Arguments: You can define methods\n",
        "            with optional parameters that have default values. This allows you to call the method with a varying number of arguments.\n",
        "\n",
        "        (2) Variable-Length Argument Lists (*args and\n",
        "            kwargs):** You can useargsto accept a variable number of positional arguments and*kwargs` to accept a variable number of keyword arguments. You can then check the number and types of arguments within the method to determine the desired behavior.\n",
        "\n",
        "        (3) Checking Argument Types and Values: Within a single method, you can use conditional statements (if, elif, else) to check the types and values of the arguments passed and execute different logic accordingly.\n",
        "\n",
        "\n",
        "12. What is method overriding in OOP ?\n",
        "    - Method overriding in Object-Oriented Programming\n",
        "      (OOP) is a feature that allows a subclass to provide its own implementation of a method that is already defined in its superclass. When that method is called on an object of the subclass, the subclass's implementation is executed instead of the superclass's implementation.\n",
        "\n",
        "         - Here's a breakdown of the concept:\n",
        "\n",
        "            (1) Same Method Signature:\n",
        "        Method overriding occurs when a method in the subclass has the exact same name, number and types of parameters, and return type (in languages where return type is part of the signature) as a method in its superclass.\n",
        "\n",
        "           (2) Subclass Implementation Takes\n",
        "             Precedence:When you create an object of the subclass and call the overridden method, Python (or the OOP language) will execute the version of the method defined in the subclass. The superclass's version is effectively replaced for objects of the subclass.\n",
        "\n",
        "          (3) Specialization or Modification: Method\n",
        "              overriding is used to specialize or modify the behavior inherited from the superclass. A subclass might need to perform a similar action as the superclass but with specific details or variations.\n",
        "\n",
        "          (4) Relationship with Polymorphism: Method\n",
        "              overriding is a key mechanism for achieving polymorphism. Because different subclasses can provide their own implementations of the same method, you can treat objects of different subclasses uniformly through a common interface (the method name), and the correct behavior will be executed based on the object's actual type.\n",
        "\n",
        "\n",
        "13. What is a property decorator in Python ?\n",
        "    -  In Python, the @property decorator is a   \n",
        "       built-in decorator that provides a convenient way to define getter, setter, and deleter methods for attributes in a class. It allows you to control how attributes are accessed and modified, giving you more control over data encapsulation and validation.\n",
        "\n",
        "- Here's a breakdown of what the @property decorator does:\n",
        "\n",
        "            (1).Turns a Method into an Attribute: The primary use of @property is to turn a class method into a \"property\" that can be accessed like a regular attribute. This means you can use the dot notation (object.attribute) to get or set the value, instead of calling a method explicitly (object.get_attribute()).\n",
        "\n",
        "            (2). Getter, Setter, and Deleter: The @property decorator is typically used in conjunction with other decorators (@attribute_name.setter and @attribute_name.deleter) to define the behavior when the property is accessed (get), assigned a new value (set), or deleted (delete).\n",
        "\n",
        "\n",
        "14. Why is polymorphism important in OOP ?\n",
        "    -  Polymorphism is a crucial concept in Object-Oriented Programming (OOP) because it brings significant benefits that lead to more flexible, extensible, and maintainable code. Here's why polymorphism is important:\n",
        "\n",
        "             (1) Code Flexibility and Reusability: Polymorphism allows you to write code that can work with objects of different classes in a uniform way. You can define a common interface (e.g., a method name) and have different objects respond to that interface in their own specific ways. This means you can write a single piece of code that operates on a collection of objects of different types, as long as they share that common interface. This reduces the need to write type-specific code and promotes code reusability.\n",
        "\n",
        "             (2) Extensibility: Polymorphism makes it easier to add new classes and behaviors to your system without having to modify existing code extensively. If you have code that works with objects through a polymorphic interface, you can introduce a new class that implements that interface, and the existing code will be able to work with the new class's objects without any changes. This makes your system more adaptable to future requirements.\n",
        "\n",
        "             (3) Simplified Code: By allowing objects of different types to be treated similarly, polymorphism simplifies your code. You don't need to use lengthy if-elif-else blocks or switch statements to handle different object types explicitly. Instead, you can rely on the polymorphic behavior to call the appropriate method implementation for each object.\n",
        "\n",
        "             (4) Maintainability: Polymorphism contributes to better code maintainability. If you need to change the behavior of a specific type of object, you only need to modify the implementation of the polymorphic method in that object's class. The code that uses the polymorphic interface doesn't need to be changed. This localizes changes and reduces the risk of introducing bugs in other parts of the system.\n",
        "\n",
        "             (5) Abstraction: Polymorphism works hand-in-hand with abstraction. By hiding the specific details of how different objects implement a common behavior, polymorphism allows you to interact with objects at a higher level of abstraction. You focus on what the object can do (the method name) rather than how it does it (the specific implementation).\n",
        "\n",
        "\n",
        "15. What is an abstract class in Python ?\n",
        "    - An abstract class is a class that cannot be\n",
        "      instantiated directly. It serves as a blueprint for other classes and is designed to be inherited by subclasses that provide concrete implementations for its abstract methods.\n",
        "\n",
        "- Here's what defines an abstract class in Python:\n",
        "\n",
        "       (1) Cannot be Instantiated: You cannot create an object directly from an abstract class. Trying to do so will result in a TypeError.\n",
        "\n",
        "       (2) Contains Abstract Methods: Abstract classes typically contain one or more abstract methods. An abstract method is a method that is declared in the abstract class but does not have an implementation. It's up to the concrete subclasses to provide the implementation for these abstract methods.\n",
        "\n",
        "       (3) Requires Subclasses to Implement Abstract Methods: A class that inherits from an abstract class must provide implementations for all of its abstract methods to be considered a concrete class that can be instantiated. If a subclass fails to implement all inherited abstract methods, it will also be considered an abstract class and cannot be instantiated.\n",
        "\n",
        "       (4) Uses the abc Module: Python's abc (Abstract Base Classes) module is used to define abstract classes and abstract methods. You typically use ABC as the base class for your abstract class and the @abstractmethod decorator for abstract methods.\n",
        "\n",
        "\n",
        "16. What are the advantages of OOP ?\n",
        "    - Object-Oriented Programming (OOP) offers several\n",
        "      advantages that contribute to building robust, maintainable, and scalable software. Here are some of the key benefits, as highlighted in the search result [1] and general OOP principles:\n",
        "\n",
        "          (1) Modularity for Easier Troubleshooting: OOP promotes breaking down a system into smaller, self-contained units called objects. Each object encapsulates its data and behavior. This modularity makes it easier to understand, debug, and troubleshoot issues within specific objects without affecting the entire system.\n",
        "\n",
        "          (2) Reuse of Code Through Inheritance: Inheritance allows new classes (subclasses) to inherit properties and behaviors from existing classes (superclasses). This means you don't have to rewrite the same code repeatedly. Common functionalities can be defined in a base class and reused by multiple derived classes, saving time and reducing redundancy.\n",
        "\n",
        "          (3) Flexibility Through Polymorphism: Polymorphism enables objects of different classes to be treated through a common interface. This allows you to write more generic and flexible code that can work with various object types. It makes it easier to add new classes and behaviors to a system without significantly altering existing code.\n",
        "\n",
        "          (4) Effective Problem Solving: OOP encourages modeling real-world entities and their interactions. This can make it easier to map complex problems to object-oriented solutions, leading to a more intuitive and structured approach to problem-solving.\n",
        "\n",
        "\n",
        "17. What is the difference between a class variable and an instance variable ?\n",
        "    - The difference between a class variable and an\n",
        "      instance variable in Python lies in where the variable is defined and how it is accessed and shared among objects of a class.\n",
        "\n",
        "- Here's a breakdown of the key differences:\n",
        "\n",
        "1. Class Variables:\n",
        "\n",
        "     - Definition: Class variables are defined within  the class but outside of any instance method (including __init__). They are shared among all instances of that class.\n",
        "\n",
        "     - Storage: There is only one copy of a class\n",
        "       variable for the entire class, regardless of how many instances are created.\n",
        "\n",
        "     - Access: You can access class variables using\n",
        "       the class name itself (ClassName.class_variable) or through an instance of the class (instance_name.class_variable). However, it's generally recommended to access them using the class name to clearly indicate that you are referring to the class-level attribute.\n",
        "\n",
        "  - Purpose: Class variables are often used to store\n",
        "    attributes that are common to all instances of the class, such as constants, configuration settings, or counters for the number of instances created.\n",
        "\n",
        "\n",
        "18. What is multiple inheritance in Python ?\n",
        "    - Multiple inheritance is a feature in Object-Oriented Programming (OOP) where a class can inherit properties and behaviors (attributes and methods) from more than one parent class. This means a single child class can have multiple direct superclasses.\n",
        "\n",
        "- Method Resolution Order (MRO):\n",
        "\n",
        "    - A potential issue with multiple inheritance is\n",
        "      the \"diamond problem,\" where a class inherits from two classes that have a common ancestor, and there's a method with the same name defined in multiple places in the inheritance hierarchy. When you call that method on an object of the child class, Python needs to determine which implementation to use.\n",
        "\n",
        "    - Python resolves this using the Method Resolution Order (MRO). The MRO is the order in which Python searches for a method or attribute in the inheritance hierarchy. Python uses the C3 linearization algorithm to determine the MRO.\n",
        "\n",
        "\n",
        "19.  Explain the purpose of ‘’__str__’ and ‘__repr__’ ‘ methods in Python ?\n",
        "     -  In Python, __str__ and __repr__ are special dunder methods that are used to define string representations of objects. While both return strings, they serve different purposes and are intended for different audiences.\n",
        "\n",
        "        1. __str__ (for users):\n",
        "\n",
        "            - Purpose: The __str__ method is intended\n",
        "              to return a user-friendly, human-readable string representation of an object. It should be concise and informative, suitable for displaying to users.\n",
        "\n",
        "           - Invoked by: The str() built-in function\n",
        "             and the print() function. When you use print(obj), Python calls str(obj), which in turn calls obj.__str__() if it's defined.\n",
        "\n",
        "          - Goal: To provide a string that is easy for\n",
        "            people to understand and read, often omitting detailed technical information.\n",
        "\n",
        "       2. __repr__ (for developers):\n",
        "\n",
        "          - Purpose: The __repr__ method is intended\n",
        "            to return an unambiguous and technical string representation of an object, primarily for developers. The goal is to produce a string that, if possible, could be used to recreate the object.\n",
        "\n",
        "          - Invoked by: The repr() built-in function\n",
        "            and the interactive interpreter (when you type an object's name without print()). If __str__ is not defined for a class, and str() or print() is called, Python will fall back to calling __repr__.\n",
        "\n",
        "           - Goal: To provide a string that is useful for debugging and development, showing the object's state in a way that helps developers understand how it was created or what its internal data is. As stated in the search result [1], if possible, the string returned should be a valid Python expression that can be used to recreate the object.\n",
        "\n",
        "\n",
        "20. What is the significance of the ‘super()’ function in Python ?\n",
        "    - The super() function in Python is a built-in\n",
        "      function that provides a way to call a method from a parent or sibling class in an inheritance hierarchy. Its primary significance lies in facilitating cooperative multiple inheritance and allowing subclasses to properly extend or modify the behavior of their superclasses.\n",
        "\n",
        "-Here's a breakdown of the significance of super():\n",
        "\n",
        "      (1) Calling Parent Class Methods in Single Inheritance: In single inheritance, super() is commonly used in a subclass's method to call the corresponding method in its immediate parent class. This is often done in the __init__ method to ensure that the parent class's initialization is performed before the subclass's initialization.\n",
        "\n",
        "      (2)Enabling Cooperative Multiple Inheritance: The most significant use of super() is in cooperative multiple inheritance. When a class inherits from multiple parent classes, super() follows the Method Resolution Order (MRO) to call the next method in the hierarchy, regardless of the direct parent class. This allows methods in different parent classes to cooperate and avoid explicit calls to specific parent classes.\n",
        "\n",
        "      (3) Avoiding Explicit Parent Class Naming: Before super(), you would often have to explicitly name the parent class when calling its method (e.g., Parent.__init__(self, value)). This made code less flexible, as changing the parent class would require updating the method calls. super() avoids this issue by dynamically determining the next class in the MRO.\n",
        "\n",
        "     (4) Improving Code Readability and Maintainability: Using super() makes your code more readable and maintainable, especially in complex inheritance scenarios. It clearly indicates that you are calling a method from a superclass or a class higher up in the MRO, without requiring you to know the exact parent class name.\n",
        "\n",
        "\n",
        "21. What is the significance of the __del__ method in Python ?  \n",
        "    - In Python, the __del__ method is a special\n",
        "      dunder method that is called when an object is about to be garbage collected. It's often referred to as the \"finalizer\" or \"destructor.\"\n",
        "\n",
        "- Here's a breakdown of the significance and purpose of the __del__ method:\n",
        "\n",
        "   (1).Resource Cleanup: The primary significance of __del__ is to perform cleanup operations or release external resources held by an object when that object is no longer needed and is being destroyed by the garbage collector. This can include:\n",
        "\n",
        "        - Closing file handles.\n",
        "        - Closing network connections.\n",
        "        - Releasing locks or other system resources.\n",
        "        - Removing temporary files.\n",
        "\n",
        "  (2).Complementary to __init__: While __init__ is used to initialize an object's state and acquire resources, __del__ is the logical counterpart for releasing those resources when the object's lifetime ends.\n",
        "\n",
        "  (3).Called by Garbage Collector: Unlike regular methods that you call explicitly, __del__ is called automatically by Python's garbage collector when it determines that there are no longer any references to an object   \n",
        "\n",
        "22. What is the difference between @staticmethod and\n",
        "   @classmethod in Python ?\n",
        "    - Here's the difference between @staticmethod and\n",
        "      @classmethod in Python:\n",
        "\n",
        "   (1). @classmethod:\n",
        "\n",
        "            -Takes the class as the first argument (conventionally named cls).\n",
        "\n",
        "            - Can access and modify class-level attributes and call other class methods using cls.\n",
        "\n",
        "            - Is used for factory methods or methods that operate on the class as a whole.\n",
        "\n",
        "\n",
        "  (2). @staticmethod:\n",
        "\n",
        "             - Does not take self or cls as the first\n",
        "               argument.\n",
        "\n",
        "             - Cannot access or modify instance-level\n",
        "               or class-level attributes directly.\n",
        "\n",
        "             - Behaves like a regular function but is defined within a class for organizational purposes.\n",
        "\n",
        "             - Is used for utility functions that are related to the class but don't need access to instance or class data.\n",
        "\n",
        "23. How does polymorphism work in Python with\n",
        "    inheritanc?\n",
        "    - Polymorphism in Python, when combined with   inheritance, allows you to treat objects of different classes in a uniform way through a common interface. This common interface is typically defined by a method that is present in the base class and overridden in the derived classes.\n",
        "\n",
        "- Here's how it works:\n",
        "\n",
        "(1). Base Class and Derived Classes: You have a base   class that defines a method (let's call it perform_action). You then have one or more derived classes that inherit from the base class.\n",
        "\n",
        "(2). Method Overriding: In each derived class, you\n",
        "     provide your own specific implementation of the perform_action method. This is called method overriding – the derived class's method replaces the base class's method when called on an object of the derived class.\n",
        "\n",
        "(3). Common Interface: Even though the derived classes\n",
        "     have different implementations of perform_action, they all share the same method name. This method name acts as a common interface.\n",
        "\n",
        "(4). Polymorphic Behavior: You can create a list or\n",
        "     collection of objects that are instances of different derived classes. When you iterate through this collection and call the perform_action method on each object, Python dynamically determines which version of the method to execute based on the actual type of the object.\n",
        "\n",
        "\n",
        "24. What is method chaining in Python OOP ?\n",
        "    - Method chaining in Python OOP is a programming\n",
        "      technique where you call multiple methods on an object in a single line of code, with each method call returning the object itself. This allows you to chain together a sequence of operations on the object in a concise and readable manner.\n",
        "\n",
        "- Here the method of chaining :\n",
        "\n",
        "(1). Method Returns Self: For method chaining to work,\n",
        "     each method in the chain must return the instance of the object (self).\n",
        "\n",
        "(2). Calling Multiple Methods: You can then call a\n",
        "     series of these methods on the object, one after the other, using the dot notation.\n",
        "\n",
        "25. What is the purpose of the __call__ method in\n",
        "   Python?\n",
        "   - In Python, the __call__ method is a special\n",
        "     dunder method that allows an object to be called like a function. If a class defines the __call__ method, you can create an instance of that class and then invoke that instance as if it were a function.\n",
        "\n",
        "- Here's the purpose and significance of the __call__ method:\n",
        "\n",
        "        - Making Objects Callable: The primary purpose of __call__ is to make instances of a class callable. This means you can use the object's name followed by parentheses (object_name()) to execute the code defined within the __call__ method.\n",
        "\n",
        "       - Creating Function-Like Objects: This ability to call an object like a function is useful for creating objects that behave like functions but can also maintain state (through their attributes). This allows you to create more complex and flexible callable entities than simple functions.\n",
        "\n",
        "       - Implementing Decorators: The __call__ method is frequently used when implementing decorators. A decorator is typically a callable object that wraps another function or method. The decorator's __call__ method is executed when the decorated function is called.\n",
        "\n",
        "       - Creating Objects with Configurable Behavior: You can use the __call__ method to create objects whose behavior can be configured through their initialization or attributes, and then use these configurable objects like functions.\n"
      ],
      "metadata": {
        "id": "2kAAwHEsEHRs"
      }
    },
    {
      "cell_type": "markdown",
      "source": [
        "# Practical Questions"
      ],
      "metadata": {
        "id": "1HhGBm4aQHzT"
      }
    },
    {
      "cell_type": "markdown",
      "source": [
        "Ques 1.  Create a parent class Animal with a method speak() that prints a generic message. Create a child class Dog\n",
        "that overrides the speak() method to print \"Bark!\"."
      ],
      "metadata": {
        "id": "7uItpOKUQVcS"
      }
    },
    {
      "cell_type": "code",
      "source": [
        "# Create a parent class Animal\n",
        "class Animal:\n",
        "    def speak(self):\n",
        "        print(\"Generic animal sound\")\n",
        "\n",
        "# Create a child class Dog inheriting from Animal\n",
        "class Dog(Animal):\n",
        "    # Override the speak() method\n",
        "    def speak(self):\n",
        "        print(\"Bark!\")\n",
        "\n",
        "# Create instances and test\n",
        "animal = Animal()\n",
        "dog = Dog()\n",
        "\n",
        "animal.speak()\n",
        "dog.speak()"
      ],
      "metadata": {
        "colab": {
          "base_uri": "https://localhost:8080/"
        },
        "id": "tcMsP--1QfcU",
        "outputId": "c8f33793-95a3-4f17-8731-4d16f0b2af98"
      },
      "execution_count": 1,
      "outputs": [
        {
          "output_type": "stream",
          "name": "stdout",
          "text": [
            "Generic animal sound\n",
            "Bark!\n"
          ]
        }
      ]
    },
    {
      "cell_type": "markdown",
      "source": [
        "Ques 2. . Write a program to create an abstract class Shape with a method area(). Derive classes Circle and Rectangle\n",
        "from it and implement the area() method in both.\n",
        "\n",
        "\n"
      ],
      "metadata": {
        "id": "lUVEVknRQmWm"
      }
    },
    {
      "cell_type": "code",
      "source": [
        "from abc import ABC, abstractmethod\n",
        "import math\n",
        "\n",
        "# Create an abstract class Shape\n",
        "class Shape(ABC):\n",
        "    @abstractmethod\n",
        "    def area(self):\n",
        "        pass\n",
        "\n",
        "# Derive class Circle from Shape\n",
        "class Circle(Shape):\n",
        "    def __init__(self, radius):\n",
        "        self.radius = radius\n",
        "\n",
        "    def area(self):\n",
        "        return math.pi * self.radius**2\n",
        "\n",
        "# Derive class Rectangle from Shape\n",
        "class Rectangle(Shape):\n",
        "    def __init__(self, width, height):\n",
        "        self.width = width\n",
        "        self.height = height\n",
        "\n",
        "    def area(self):\n",
        "        return self.width * self.height\n",
        "\n",
        "# Create instances and test\n",
        "circle = Circle(5)\n",
        "rectangle = Rectangle(4, 6)\n",
        "\n",
        "print(f\"Area of Circle: {circle.area()}\")\n",
        "print(f\"Area of Rectangle: {rectangle.area()}\")"
      ],
      "metadata": {
        "colab": {
          "base_uri": "https://localhost:8080/"
        },
        "id": "HFacRKKgQrJ5",
        "outputId": "7022e9aa-4efd-47cb-fa9c-1edb2e5266ac"
      },
      "execution_count": 2,
      "outputs": [
        {
          "output_type": "stream",
          "name": "stdout",
          "text": [
            "Area of Circle: 78.53981633974483\n",
            "Area of Rectangle: 24\n"
          ]
        }
      ]
    },
    {
      "cell_type": "markdown",
      "source": [
        "Ques 3. . Implement a multi-level inheritance scenario where a class Vehicle has an attribute type. Derive a class Car\n",
        "and further derive a class ElectricCar that adds a battery attribute."
      ],
      "metadata": {
        "id": "pmPq6G5TQ6Ie"
      }
    },
    {
      "cell_type": "code",
      "source": [
        "# Parent class\n",
        "class Vehicle:\n",
        "    def __init__(self, vehicle_type):\n",
        "        self.type = vehicle_type\n",
        "\n",
        "    def display_type(self):\n",
        "        print(f\"Vehicle type: {self.type}\")\n",
        "\n",
        "# Child class inheriting from Vehicle\n",
        "class Car(Vehicle):\n",
        "    def __init__(self, vehicle_type, make, model):\n",
        "        super().__init__(vehicle_type)  # Call the parent class constructor\n",
        "        self.make = make\n",
        "        self.model = model\n",
        "\n",
        "    def display_car_info(self):\n",
        "        self.display_type()\n",
        "        print(f\"Car: {self.make} {self.model}\")\n",
        "\n",
        "# Grandchild class inheriting from Car\n",
        "class ElectricCar(Car):\n",
        "    def __init__(self, vehicle_type, make, model, battery_capacity):\n",
        "        super().__init__(vehicle_type, make, model)  # Call the parent class constructor\n",
        "        self.battery = battery_capacity\n",
        "\n",
        "    def display_electric_car_info(self):\n",
        "        self.display_car_info()\n",
        "        print(f\"Battery capacity: {self.battery} kWh\")\n",
        "\n",
        "# Create an instance of ElectricCar and test\n",
        "electric_car = ElectricCar(\"Electric\", \"Tesla\", \"Model 3\", 75)\n",
        "\n",
        "electric_car.display_electric_car_info()"
      ],
      "metadata": {
        "colab": {
          "base_uri": "https://localhost:8080/"
        },
        "id": "Uxbhk616Q965",
        "outputId": "41a850f9-de40-48e5-bdff-4b14aa496a3f"
      },
      "execution_count": 3,
      "outputs": [
        {
          "output_type": "stream",
          "name": "stdout",
          "text": [
            "Vehicle type: Electric\n",
            "Car: Tesla Model 3\n",
            "Battery capacity: 75 kWh\n"
          ]
        }
      ]
    },
    {
      "cell_type": "markdown",
      "source": [
        "Ques 4. Demonstrate polymorphism by creating a base class Bird with a method fly(). Create two derived classes\n",
        "Sparrow and Penguin that override the fly() method.\n",
        ""
      ],
      "metadata": {
        "id": "X2VZrg6gRDdV"
      }
    },
    {
      "cell_type": "code",
      "source": [
        "# Base class\n",
        "class Bird:\n",
        "    def fly(self):\n",
        "        print(\"Most birds can fly\")\n",
        "\n",
        "# Derived class 1\n",
        "class Sparrow(Bird):\n",
        "    def fly(self):\n",
        "        print(\"Sparrows fly short distances\")\n",
        "\n",
        "# Derived class 2\n",
        "class Penguin(Bird):\n",
        "    def fly(self):\n",
        "        print(\"Penguins cannot fly, they swim!\")\n",
        "\n",
        "# Demonstrate polymorphism\n",
        "def bird_action(bird):\n",
        "    bird.fly()\n",
        "\n",
        "# Create instances of different bird types\n",
        "generic_bird = Bird()\n",
        "sparrow = Sparrow()\n",
        "penguin = Penguin()\n",
        "\n",
        "# Call the bird_action function with different bird objects\n",
        "bird_action(generic_bird)\n",
        "bird_action(sparrow)\n",
        "bird_action(penguin)"
      ],
      "metadata": {
        "colab": {
          "base_uri": "https://localhost:8080/"
        },
        "id": "6_taf4y6RMvT",
        "outputId": "7f7288e1-8b03-4f78-bc46-10271852a208"
      },
      "execution_count": 4,
      "outputs": [
        {
          "output_type": "stream",
          "name": "stdout",
          "text": [
            "Most birds can fly\n",
            "Sparrows fly short distances\n",
            "Penguins cannot fly, they swim!\n"
          ]
        }
      ]
    },
    {
      "cell_type": "markdown",
      "source": [
        "Ques 5. Write a program to demonstrate encapsulation by creating a class BankAccount with private attributes\n",
        "balance and methods to deposit, withdraw, and check balance"
      ],
      "metadata": {
        "id": "s6EyfTn-RbpG"
      }
    },
    {
      "cell_type": "code",
      "source": [
        "class BankAccount:\n",
        "    def __init__(self, initial_balance=0):\n",
        "        # Private attribute using name mangling\n",
        "        self._balance = initial_balance\n",
        "\n",
        "    def deposit(self, amount):\n",
        "        if amount > 0:\n",
        "            self._balance += amount\n",
        "            print(f\"Deposited: ${amount}. New balance: ${self._balance}\")\n",
        "        else:\n",
        "            print(\"Deposit amount must be positive.\")\n",
        "\n",
        "    def withdraw(self, amount):\n",
        "        if amount > 0:\n",
        "            if amount <= self._balance:\n",
        "                self._balance -= amount\n",
        "                print(f\"Withdrew: ${amount}. New balance: ${self._balance}\")\n",
        "            else:\n",
        "                print(\"Insufficient funds.\")\n",
        "        else:\n",
        "            print(\"Withdrawal amount must be positive.\")\n",
        "\n",
        "    def get_balance(self):\n",
        "        # Provides controlled access to the balance\n",
        "        return self._balance\n",
        "\n",
        "# Create an instance of BankAccount\n",
        "account = BankAccount(1000)\n",
        "\n",
        "# Interact with the account using the provided methods\n",
        "account.deposit(500)\n",
        "account.withdraw(200)\n",
        "account.withdraw(1500) # This should fail\n",
        "print(f\"Current balance: ${account.get_balance()}\")\n",
        "\n",
        "# Attempting to access the private attribute directly ( discouraged )\n",
        "# print(account._balance) # This will work due to name mangling, but breaks encapsulation principle"
      ],
      "metadata": {
        "colab": {
          "base_uri": "https://localhost:8080/"
        },
        "id": "QNgqiigWRS4b",
        "outputId": "48f9986c-3862-4775-9ab0-092722f88ce0"
      },
      "execution_count": 5,
      "outputs": [
        {
          "output_type": "stream",
          "name": "stdout",
          "text": [
            "Deposited: $500. New balance: $1500\n",
            "Withdrew: $200. New balance: $1300\n",
            "Insufficient funds.\n",
            "Current balance: $1300\n"
          ]
        }
      ]
    },
    {
      "cell_type": "markdown",
      "source": [
        "Ques 6. Demonstrate runtime polymorphism using a method play() in a base class Instrument. Derive classes Guitar\n",
        "and Piano that implement their own version of play()."
      ],
      "metadata": {
        "id": "LHpIEismRk31"
      }
    },
    {
      "cell_type": "code",
      "source": [
        "# Base class\n",
        "class Instrument:\n",
        "    def play(self):\n",
        "        print(\"Generic instrument sound\")\n",
        "\n",
        "# Derived class Guitar\n",
        "class Guitar(Instrument):\n",
        "    def play(self):\n",
        "        print(\"Strumming sounds\")\n",
        "\n",
        "# Derived class Piano\n",
        "class Piano(Instrument):\n",
        "    def play(self):\n",
        "        print(\"Playing keys sounds\")\n",
        "\n",
        "# Function demonstrating runtime polymorphism\n",
        "def make_instrument_play(instrument):\n",
        "    instrument.play()\n",
        "\n",
        "# Create instances of different instruments\n",
        "generic_instrument = Instrument()\n",
        "guitar = Guitar()\n",
        "piano = Piano()\n",
        "\n",
        "# Call the function with different instrument objects\n",
        "make_instrument_play(generic_instrument)\n",
        "make_instrument_play(guitar)\n",
        "make_instrument_play(piano)"
      ],
      "metadata": {
        "colab": {
          "base_uri": "https://localhost:8080/"
        },
        "id": "DkLIwXg2RrJp",
        "outputId": "789cbac8-cb18-4f5a-ac4e-769708eb1571"
      },
      "execution_count": 6,
      "outputs": [
        {
          "output_type": "stream",
          "name": "stdout",
          "text": [
            "Generic instrument sound\n",
            "Strumming sounds\n",
            "Playing keys sounds\n"
          ]
        }
      ]
    },
    {
      "cell_type": "markdown",
      "source": [
        "Ques 7.  Create a class MathOperations with a class method add_numbers() to add two numbers and a static\n",
        "method subtract_numbers() to subtract two numbers."
      ],
      "metadata": {
        "id": "S8A1FB4sRwBT"
      }
    },
    {
      "cell_type": "code",
      "source": [
        "class MathOperations:\n",
        "    @classmethod\n",
        "    def add_numbers(cls, a, b):\n",
        "        \"\"\"Class method to add two numbers.\"\"\"\n",
        "        print(f\"Adding {a} and {b} using a class method.\")\n",
        "        return a + b\n",
        "\n",
        "    @staticmethod\n",
        "    def subtract_numbers(a, b):\n",
        "        \"\"\"Static method to subtract two numbers.\"\"\"\n",
        "        print(f\"Subtracting {b} from {a} using a static method.\")\n",
        "        return a - b\n",
        "\n",
        "# Call the class method using the class name\n",
        "sum_result = MathOperations.add_numbers(10, 5)\n",
        "print(f\"Sum: {sum_result}\")\n",
        "\n",
        "# Call the static method using the class name\n",
        "difference_result = MathOperations.subtract_numbers(20, 7)\n",
        "print(f\"Difference: {difference_result}\")\n",
        "\n",
        "# You can also call them on an instance, but they still behave the same\n",
        "# math_instance = MathOperations()\n",
        "# sum_result_instance = math_instance.add_numbers(10, 5)\n",
        "# difference_result_instance = math_instance.subtract_numbers(20, 7)"
      ],
      "metadata": {
        "colab": {
          "base_uri": "https://localhost:8080/"
        },
        "id": "xh4EW1d5R1QY",
        "outputId": "7f0ba421-84d4-487d-c08a-ec8e267f48ee"
      },
      "execution_count": 7,
      "outputs": [
        {
          "output_type": "stream",
          "name": "stdout",
          "text": [
            "Adding 10 and 5 using a class method.\n",
            "Sum: 15\n",
            "Subtracting 7 from 20 using a static method.\n",
            "Difference: 13\n"
          ]
        }
      ]
    },
    {
      "cell_type": "markdown",
      "source": [
        "Ques 8.  Implement a class Person with a class method to count the total number of persons created."
      ],
      "metadata": {
        "id": "sTClV0wKR6t0"
      }
    },
    {
      "cell_type": "code",
      "source": [
        "class Person:\n",
        "    # Class variable to keep track of the number of instances\n",
        "    number_of_persons = 0\n",
        "\n",
        "    def __init__(self, name):\n",
        "        self.name = name\n",
        "        # Increment the class variable when a new instance is created\n",
        "        Person.number_of_persons += 1\n",
        "\n",
        "    @classmethod\n",
        "    def count_persons(cls):\n",
        "        \"\"\"Class method to return the total number of Person objects created.\"\"\"\n",
        "        return cls.number_of_persons\n",
        "\n",
        "# Create instances of the Person class\n",
        "person1 = Person(\"Alice\")\n",
        "person2 = Person(\"Bob\")\n",
        "person3 = Person(\"Charlie\")\n",
        "\n",
        "# Use the class method to get the total count\n",
        "total_persons = Person.count_persons()\n",
        "\n",
        "print(f\"Total number of persons created: {total_persons}\")\n",
        "\n",
        "# You can also access the class variable directly (though the class method is preferred)\n",
        "# print(Person.number_of_persons)"
      ],
      "metadata": {
        "colab": {
          "base_uri": "https://localhost:8080/"
        },
        "id": "B7UVyv4AR_tg",
        "outputId": "20ae4cc6-09d0-4052-b41a-859444b099b3"
      },
      "execution_count": 8,
      "outputs": [
        {
          "output_type": "stream",
          "name": "stdout",
          "text": [
            "Total number of persons created: 3\n"
          ]
        }
      ]
    },
    {
      "cell_type": "markdown",
      "source": [
        "Ques 9.  Write a class Fraction with attributes numerator and denominator. Override the str method to display the\n",
        "fraction as \"numerator/denominator\"."
      ],
      "metadata": {
        "id": "ZoyLGsd2SIAx"
      }
    },
    {
      "cell_type": "code",
      "source": [
        "class Fraction:\n",
        "    def __init__(self, numerator, denominator):\n",
        "        if denominator == 0:\n",
        "            raise ValueError(\"Denominator cannot be zero\")\n",
        "        self.numerator = numerator\n",
        "        self.denominator = denominator\n",
        "\n",
        "    def __str__(self):\n",
        "        \"\"\"\n",
        "        Overrides the string representation for the Fraction object,\n",
        "        intended for users (human-readable).\n",
        "        \"\"\"\n",
        "        return f\"{self.numerator}/{self.denominator}\"\n",
        "\n",
        "# Create an instance of the Fraction class\n",
        "my_fraction = Fraction(3, 5)\n",
        "\n",
        "# Print the object, which implicitly calls the __str__ method\n",
        "print(my_fraction)\n",
        "\n",
        "# Using the str() function explicitly also calls the __str__ method\n",
        "print(str(my_fraction))"
      ],
      "metadata": {
        "colab": {
          "base_uri": "https://localhost:8080/"
        },
        "id": "vBytH-MaSNg5",
        "outputId": "555560b8-3eb5-4fb2-f3df-142b4abe8b32"
      },
      "execution_count": 9,
      "outputs": [
        {
          "output_type": "stream",
          "name": "stdout",
          "text": [
            "3/5\n",
            "3/5\n"
          ]
        }
      ]
    },
    {
      "cell_type": "markdown",
      "source": [
        "Ques 10.  Demonstrate operator overloading by creating a class Vector and overriding the add method to add two\n",
        "vectors."
      ],
      "metadata": {
        "id": "5gJMurJ1SSGn"
      }
    },
    {
      "cell_type": "code",
      "source": [
        "class Vector:\n",
        "    def __init__(self, x, y):\n",
        "        self.x = x\n",
        "        self.y = y\n",
        "\n",
        "    def __add__(self, other):\n",
        "        \"\"\"\n",
        "        Overrides the addition operator (+).\n",
        "        Adds two Vector objects.\n",
        "        \"\"\"\n",
        "        if isinstance(other, Vector):\n",
        "            new_x = self.x + other.x\n",
        "            new_y = self.y + other.y\n",
        "            return Vector(new_x, new_y)\n",
        "        else:\n",
        "            # Handle addition with other types if needed, or raise an error\n",
        "            raise TypeError(\"Can only add a Vector to another Vector\")\n",
        "\n",
        "    def __str__(self):\n",
        "        \"\"\"Provides a user-friendly string representation.\"\"\"\n",
        "        return f\"Vector({self.x}, {self.y})\"\n",
        "\n",
        "    def __repr__(self):\n",
        "        \"\"\"Provides a more technical string representation.\"\"\"\n",
        "        return f\"Vector({self.x}, {self.y})\"\n",
        "\n",
        "\n",
        "# Create two Vector objects\n",
        "vector1 = Vector(2, 3)\n",
        "vector2 = Vector(1, 4)\n",
        "\n",
        "# Use the overloaded + operator to add the vectors\n",
        "vector_sum = vector1 + vector2\n",
        "\n",
        "# Print the resulting vector (implicitly uses __str__)\n",
        "print(vector_sum)\n",
        "\n",
        "# Attempting to add a Vector and a non-Vector object will raise a TypeError\n",
        "# invalid_sum = vector1 + 10"
      ],
      "metadata": {
        "colab": {
          "base_uri": "https://localhost:8080/"
        },
        "id": "YLnpuatVSW2W",
        "outputId": "7b5ad141-4184-493e-c1be-4fecbb406abe"
      },
      "execution_count": 10,
      "outputs": [
        {
          "output_type": "stream",
          "name": "stdout",
          "text": [
            "Vector(3, 7)\n"
          ]
        }
      ]
    },
    {
      "cell_type": "markdown",
      "source": [
        "Ques 11. Create a class Person with attributes name and age. Add a method greet() that prints \"Hello, my name is\n",
        "{name} and I am {age} years old.\""
      ],
      "metadata": {
        "id": "3dQdYPqoSeuC"
      }
    },
    {
      "cell_type": "code",
      "source": [
        "class Person:\n",
        "    def __init__(self, name, age):\n",
        "        self.name = name  # Instance attribute for name\n",
        "        self.age = age    # Instance attribute for age\n",
        "\n",
        "    def greet(self):\n",
        "        \"\"\"\n",
        "        Method to print a greeting message with the person's name and age.\n",
        "        \"\"\"\n",
        "        print(f\"Hello, my name is {self.name} and I am {self.age} years old.\")\n",
        "\n",
        "# Create an instance of the Person class\n",
        "person1 = Person(\"Alice\", 30)\n",
        "\n",
        "# Call the greet method\n",
        "person1.greet()\n",
        "\n",
        "# Create another instance and call the method\n",
        "person2 = Person(\"Bob\", 25)\n",
        "person2.greet()"
      ],
      "metadata": {
        "colab": {
          "base_uri": "https://localhost:8080/"
        },
        "id": "Vw5syK5QSize",
        "outputId": "39ab059f-5296-4767-d618-166319641c3b"
      },
      "execution_count": 11,
      "outputs": [
        {
          "output_type": "stream",
          "name": "stdout",
          "text": [
            "Hello, my name is Alice and I am 30 years old.\n",
            "Hello, my name is Bob and I am 25 years old.\n"
          ]
        }
      ]
    },
    {
      "cell_type": "markdown",
      "source": [
        "Ques 12. Implement a class Student with attributes name and grades. Create a method average_grade() to compute\n",
        "the average of the grades."
      ],
      "metadata": {
        "id": "oBTTo769SnVv"
      }
    },
    {
      "cell_type": "code",
      "source": [
        "class Student:\n",
        "    def __init__(self, name, grades):\n",
        "        self.name = name\n",
        "        self.grades = grades  # grades is expected to be a list of numbers\n",
        "\n",
        "    def average_grade(self):\n",
        "        \"\"\"\n",
        "        Computes and returns the average of the student's grades.\n",
        "        Returns 0 if the grades list is empty.\n",
        "        \"\"\"\n",
        "        if not self.grades:  # Check if the list of grades is empty\n",
        "            return 0\n",
        "        return sum(self.grades) / len(self.grades)\n",
        "\n",
        "# Create an instance of the Student class\n",
        "student1 = Student(\"Alice\", [85, 90, 78, 92])\n",
        "\n",
        "# Compute and print the average grade\n",
        "average1 = student1.average_grade()\n",
        "print(f\"{student1.name}'s average grade: {average1:.2f}\") # Format to 2 decimal places\n",
        "\n",
        "# Create another instance with different grades\n",
        "student2 = Student(\"Bob\", [70, 75, 80])\n",
        "\n",
        "# Compute and print the average grade\n",
        "average2 = student2.average_grade()\n",
        "print(f\"{student2.name}'s average grade: {average2:.2f}\")\n",
        "\n",
        "# Example with an empty grades list\n",
        "student3 = Student(\"Charlie\", [])\n",
        "average3 = student3.average_grade()\n",
        "print(f\"{student3.name}'s average grade: {average3:.2f}\")"
      ],
      "metadata": {
        "colab": {
          "base_uri": "https://localhost:8080/"
        },
        "id": "7zeR1Cn2StEK",
        "outputId": "080975b0-cd46-451a-a383-30ec4ec48e28"
      },
      "execution_count": 12,
      "outputs": [
        {
          "output_type": "stream",
          "name": "stdout",
          "text": [
            "Alice's average grade: 86.25\n",
            "Bob's average grade: 75.00\n",
            "Charlie's average grade: 0.00\n"
          ]
        }
      ]
    },
    {
      "cell_type": "markdown",
      "source": [
        "Ques 13.  Create a class Rectangle with methods set_dimensions() to set the dimensions and area() to calculate the\n",
        "area.\n",
        "\n",
        "\n"
      ],
      "metadata": {
        "id": "NZnd0RAESx9O"
      }
    },
    {
      "cell_type": "code",
      "source": [
        "class Rectangle:\n",
        "    def __init__(self, width=0, height=0):\n",
        "        self.width = width   # Instance attribute for width\n",
        "        self.height = height # Instance attribute for height\n",
        "\n",
        "    def set_dimensions(self, width, height):\n",
        "        \"\"\"\n",
        "        Sets the width and height of the rectangle.\n",
        "        Includes basic validation to ensure dimensions are non-negative.\n",
        "        \"\"\"\n",
        "        if width >= 0 and height >= 0:\n",
        "            self.width = width\n",
        "            self.height = height\n",
        "            print(f\"Dimensions set to: Width = {self.width}, Height = {self.height}\")\n",
        "        else:\n",
        "            print(\"Error: Dimensions must be non-negative.\")\n",
        "\n",
        "    def area(self):\n",
        "        \"\"\"\n",
        "        Calculates and returns the area of the rectangle.\n",
        "        \"\"\"\n",
        "        return self.width * self.height\n",
        "\n",
        "# Create an instance of the Rectangle class\n",
        "my_rectangle = Rectangle() # Initialize with default dimensions\n",
        "\n",
        "# Set the dimensions using the set_dimensions method\n",
        "my_rectangle.set_dimensions(10, 5)\n",
        "\n",
        "# Calculate and print the area\n",
        "rectangle_area = my_rectangle.area()\n",
        "print(f\"Area of the rectangle: {rectangle_area}\")\n",
        "\n",
        "# Create another instance and set different dimensions\n",
        "another_rectangle = Rectangle()\n",
        "another_rectangle.set_dimensions(7, 3)\n",
        "print(f\"Area of the other rectangle: {another_rectangle.area()}\")\n",
        "\n",
        "# Attempt to set invalid dimensions\n",
        "my_rectangle.set_dimensions(-2, 8)\n",
        "print(f\"Area after invalid attempt: {my_rectangle.area()}\") # Area remains unchanged"
      ],
      "metadata": {
        "colab": {
          "base_uri": "https://localhost:8080/"
        },
        "id": "QYygjpBES3nF",
        "outputId": "acbe3069-9c41-41fb-8f73-aacc5eb1a76a"
      },
      "execution_count": 13,
      "outputs": [
        {
          "output_type": "stream",
          "name": "stdout",
          "text": [
            "Dimensions set to: Width = 10, Height = 5\n",
            "Area of the rectangle: 50\n",
            "Dimensions set to: Width = 7, Height = 3\n",
            "Area of the other rectangle: 21\n",
            "Error: Dimensions must be non-negative.\n",
            "Area after invalid attempt: 50\n"
          ]
        }
      ]
    },
    {
      "cell_type": "markdown",
      "source": [
        "Ques 14. . Create a class Employee with a method calculate_salary() that computes the salary based on hours worked\n",
        "and hourly rate. Create a derived class Manager that adds a bonus to the salary."
      ],
      "metadata": {
        "id": "bP8LKmTBS9nT"
      }
    },
    {
      "cell_type": "code",
      "source": [
        "# Base class\n",
        "class Employee:\n",
        "    def __init__(self, name, hours_worked, hourly_rate):\n",
        "        self.name = name\n",
        "        self.hours_worked = hours_worked\n",
        "        self.hourly_rate = hourly_rate\n",
        "\n",
        "    def calculate_salary(self):\n",
        "        \"\"\"\n",
        "        Calculates the base salary based on hours worked and hourly rate.\n",
        "        \"\"\"\n",
        "        return self.hours_worked * self.hourly_rate\n",
        "\n",
        "    def display_info(self):\n",
        "        \"\"\"Displays basic employee information.\"\"\"\n",
        "        print(f\"Employee: {self.name}, Hours Worked: {self.hours_worked}, Hourly Rate: ${self.hourly_rate}\")\n",
        "\n",
        "# Derived class Manager\n",
        "class Manager(Employee):\n",
        "    def __init__(self, name, hours_worked, hourly_rate, bonus):\n",
        "        super().__init__(name, hours_worked, hourly_rate) # Call the parent class constructor\n",
        "        self.bonus = bonus # New attribute for bonus\n",
        "\n",
        "    def calculate_salary(self):\n",
        "        \"\"\"\n",
        "        Overrides the calculate_salary method to include a bonus.\n",
        "        \"\"\"\n",
        "        base_salary = super().calculate_salary() # Call the parent's calculate_salary\n",
        "        total_salary = base_salary + self.bonus\n",
        "        return total_salary\n",
        "\n",
        "    def display_info(self):\n",
        "        \"\"\"Overrides display_info to include bonus information.\"\"\"\n",
        "        super().display_info() # Call the parent's display_info\n",
        "        print(f\"Bonus: ${self.bonus}\")\n",
        "\n",
        "\n",
        "# Create instances\n",
        "employee1 = Employee(\"Alice\", 40, 20)\n",
        "manager1 = Manager(\"Bob\", 40, 25, 1000) # Manager with a bonus\n",
        "\n",
        "# Calculate and display salaries\n",
        "print(f\"{employee1.name}'s salary: ${employee1.calculate_salary()}\")\n",
        "print(f\"{manager1.name}'s salary: ${manager1.calculate_salary()}\")\n",
        "\n",
        "print(\"-\" * 20) # Separator\n",
        "\n",
        "# Display information using the (potentially overridden) display_info method\n",
        "employee1.display_info()\n",
        "print(\"-\" * 10)\n",
        "manager1.display_info()"
      ],
      "metadata": {
        "colab": {
          "base_uri": "https://localhost:8080/"
        },
        "id": "UOUOd62bTKAp",
        "outputId": "10414477-e51a-4569-a38b-f4600dff64b0"
      },
      "execution_count": 14,
      "outputs": [
        {
          "output_type": "stream",
          "name": "stdout",
          "text": [
            "Alice's salary: $800\n",
            "Bob's salary: $2000\n",
            "--------------------\n",
            "Employee: Alice, Hours Worked: 40, Hourly Rate: $20\n",
            "----------\n",
            "Employee: Bob, Hours Worked: 40, Hourly Rate: $25\n",
            "Bonus: $1000\n"
          ]
        }
      ]
    },
    {
      "cell_type": "markdown",
      "source": [
        "Ques 15.  Create a class Product with attributes name, price, and quantity. Implement a method total_price() that\n",
        "calculates the total price of the product."
      ],
      "metadata": {
        "id": "olzqwx9zTPYF"
      }
    },
    {
      "cell_type": "code",
      "source": [
        "class Product:\n",
        "    def __init__(self, name, price, quantity):\n",
        "        self.name = name\n",
        "        # It's often good practice to validate input in the constructor\n",
        "        if price >= 0:\n",
        "            self.price = price\n",
        "        else:\n",
        "            raise ValueError(\"Price cannot be negative.\")\n",
        "\n",
        "        if quantity >= 0 and isinstance(quantity, int):\n",
        "            self.quantity = quantity\n",
        "        else:\n",
        "             raise ValueError(\"Quantity must be a non-negative integer.\")\n",
        "\n",
        "\n",
        "    def total_price(self):\n",
        "        \"\"\"\n",
        "        Calculates and returns the total price of the product\n",
        "        (price * quantity).\n",
        "        \"\"\"\n",
        "        # Simple calculation using instance attributes\n",
        "        return self.price * self.quantity\n",
        "\n",
        "# Create instances of the Product class\n",
        "product1 = Product(\"Laptop\", 1200.50, 5)\n",
        "product2 = Product(\"Mouse\", 25.00, 10)\n",
        "product3 = Product(\"Keyboard\", 75.99, 2)\n",
        "\n",
        "# Calculate and print the total price for each product\n",
        "total1 = product1.total_price()\n",
        "total2 = product2.total_price()\n",
        "total3 = product3.total_price()\n",
        "\n",
        "print(f\"Total price for {product1.name}: ${total1:.2f}\")\n",
        "print(f\"Total price for {product2.name}: ${total2:.2f}\")\n",
        "print(f\"Total price for {product3.name}: ${total3:.2f}\")\n",
        "\n",
        "# Example of invalid input (will raise a ValueError)\n",
        "# invalid_product = Product(\"Invalid Item\", -10, 5)\n",
        "# invalid_product_quantity = Product(\"Another Invalid\", 50, -3)"
      ],
      "metadata": {
        "colab": {
          "base_uri": "https://localhost:8080/"
        },
        "id": "OE_7-9jhTWpZ",
        "outputId": "9fb85894-afda-4e5a-c4dc-2522fc8da202"
      },
      "execution_count": 15,
      "outputs": [
        {
          "output_type": "stream",
          "name": "stdout",
          "text": [
            "Total price for Laptop: $6002.50\n",
            "Total price for Mouse: $250.00\n",
            "Total price for Keyboard: $151.98\n"
          ]
        }
      ]
    },
    {
      "cell_type": "markdown",
      "source": [
        "Ques 16. . Create a class Animal with an abstract method sound(). Create two derived classes Cow and Sheep that\n",
        "implement the sound() method."
      ],
      "metadata": {
        "id": "y4_sH7XBTbU3"
      }
    },
    {
      "cell_type": "code",
      "source": [
        "from abc import ABC, abstractmethod\n",
        "\n",
        "# Create an abstract class Animal\n",
        "class Animal(ABC):\n",
        "    @abstractmethod\n",
        "    def sound(self):\n",
        "        \"\"\"Abstract method for the sound an animal makes.\"\"\"\n",
        "        pass\n",
        "\n",
        "# Derived class Cow\n",
        "class Cow(Animal):\n",
        "    def sound(self):\n",
        "        \"\"\"Implements the sound method for a Cow.\"\"\"\n",
        "        print(\"Moo\")\n",
        "\n",
        "# Derived class Sheep\n",
        "class Sheep(Animal):\n",
        "    def sound(self):\n",
        "        \"\"\"Implements the sound method for a Sheep.\"\"\"\n",
        "        print(\"Baa\")\n",
        "\n",
        "# Demonstrate polymorphism with the sound method\n",
        "def make_animal_sound(animal):\n",
        "    animal.sound()\n",
        "\n",
        "# Create instances of the derived classes\n",
        "cow = Cow()\n",
        "sheep = Sheep()\n",
        "\n",
        "# Call the make_animal_sound function with different animal objects\n",
        "make_animal_sound(cow)\n",
        "make_animal_sound(sheep)\n",
        "\n",
        "# Attempting to instantiate the abstract class will raise a TypeError\n",
        "# generic_animal = Animal() # This line would cause an error"
      ],
      "metadata": {
        "colab": {
          "base_uri": "https://localhost:8080/"
        },
        "id": "u83af-q0TejZ",
        "outputId": "f0aa59b6-db4b-414e-c285-1e523e4860ff"
      },
      "execution_count": 16,
      "outputs": [
        {
          "output_type": "stream",
          "name": "stdout",
          "text": [
            "Moo\n",
            "Baa\n"
          ]
        }
      ]
    },
    {
      "cell_type": "markdown",
      "source": [
        "Ques 17. Create a class Book with attributes title, author, and year_published. Add a method get_book_info() that\n",
        "returns a formatted string with the book's details.\n",
        "\n",
        "\n"
      ],
      "metadata": {
        "id": "2b-SHoa0Tjlo"
      }
    },
    {
      "cell_type": "code",
      "source": [
        "class Book:\n",
        "    def __init__(self, title, author, year_published):\n",
        "        self.title = title             # Instance attribute for title\n",
        "        self.author = author           # Instance attribute for author\n",
        "        self.year_published = year_published # Instance attribute for year published\n",
        "\n",
        "    def get_book_info(self):\n",
        "        \"\"\"\n",
        "        Returns a formatted string containing the book's details.\n",
        "        \"\"\"\n",
        "        return f\"Title: {self.title}, Author: {self.author}, Published: {self.year_published}\"\n",
        "\n",
        "# Create instances of the Book class\n",
        "book1 = Book(\"The Hitchhiker's Guide to the Galaxy\", \"Douglas Adams\", 1979)\n",
        "book2 = Book(\"Pride and Prejudice\", \"Jane Austen\", 1813)\n",
        "\n",
        "# Get and print the book information using the get_book_info method\n",
        "info1 = book1.get_book_info()\n",
        "info2 = book2.get_book_info()\n",
        "\n",
        "print(info1)\n",
        "print(info2)\n"
      ],
      "metadata": {
        "colab": {
          "base_uri": "https://localhost:8080/"
        },
        "id": "PWP3OjbDTtFL",
        "outputId": "d70dce36-9dd1-478a-d2ef-eece555825a9"
      },
      "execution_count": 17,
      "outputs": [
        {
          "output_type": "stream",
          "name": "stdout",
          "text": [
            "Title: The Hitchhiker's Guide to the Galaxy, Author: Douglas Adams, Published: 1979\n",
            "Title: Pride and Prejudice, Author: Jane Austen, Published: 1813\n"
          ]
        }
      ]
    },
    {
      "cell_type": "markdown",
      "source": [
        "Ques 18. Create a class House with attributes address and price. Create a derived class Mansion that adds an\n",
        "attribute number_of_rooms."
      ],
      "metadata": {
        "id": "8Z3hUvz6Tu20"
      }
    },
    {
      "cell_type": "code",
      "source": [
        "# Base class\n",
        "class House:\n",
        "    def __init__(self, address, price):\n",
        "        self.address = address  # Instance attribute for address\n",
        "        self.price = price      # Instance attribute for price\n",
        "\n",
        "    def display_house_info(self):\n",
        "        \"\"\"Displays basic house information.\"\"\"\n",
        "        print(f\"Address: {self.address}, Price: ${self.price:,.2f}\") # Format price\n",
        "\n",
        "# Derived class Mansion\n",
        "class Mansion(House):\n",
        "    def __init__(self, address, price, number_of_rooms):\n",
        "        # Call the parent class constructor using super()\n",
        "        super().__init__(address, price)\n",
        "        # Add a new attribute specific to Mansion\n",
        "        self.number_of_rooms = number_of_rooms\n",
        "\n",
        "    def display_mansion_info(self):\n",
        "        \"\"\"Displays mansion information, including the number of rooms.\"\"\"\n",
        "        # Call the parent's display_house_info to show common details\n",
        "        super().display_house_info()\n",
        "        # Add the specific mansion detail\n",
        "        print(f\"Number of Rooms: {self.number_of_rooms}\")\n",
        "\n",
        "\n",
        "# Create instances\n",
        "house1 = House(\"123 Main St\", 250000)\n",
        "mansion1 = Mansion(\"456 Oak Ave\", 5000000, 20) # Mansion with many rooms\n",
        "\n",
        "# Display information\n",
        "print(\"--- House Info ---\")\n",
        "house1.display_house_info()\n",
        "\n",
        "print(\"\\n--- Mansion Info ---\")\n",
        "mansion1.display_mansion_info()"
      ],
      "metadata": {
        "colab": {
          "base_uri": "https://localhost:8080/"
        },
        "id": "mI7sKddlT3s7",
        "outputId": "b66d3007-a745-4fa3-cc64-5effbc0e01bf"
      },
      "execution_count": 18,
      "outputs": [
        {
          "output_type": "stream",
          "name": "stdout",
          "text": [
            "--- House Info ---\n",
            "Address: 123 Main St, Price: $250,000.00\n",
            "\n",
            "--- Mansion Info ---\n",
            "Address: 456 Oak Ave, Price: $5,000,000.00\n",
            "Number of Rooms: 20\n"
          ]
        }
      ]
    },
    {
      "cell_type": "markdown",
      "source": [],
      "metadata": {
        "id": "2BZ6KusHQSR7"
      }
    },
    {
      "cell_type": "markdown",
      "source": [],
      "metadata": {
        "id": "t79u6gtbEHBg"
      }
    },
    {
      "cell_type": "code",
      "execution_count": null,
      "metadata": {
        "id": "y8hjtX0BDs6Z"
      },
      "outputs": [],
      "source": []
    }
  ]
}